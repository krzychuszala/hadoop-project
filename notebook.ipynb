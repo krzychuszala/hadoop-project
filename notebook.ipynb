{
 "cells": [
  {
   "cell_type": "markdown",
   "metadata": {},
   "source": [
    "## Imports"
   ]
  },
  {
   "cell_type": "code",
   "execution_count": 1,
   "metadata": {},
   "outputs": [
    {
     "name": "stdout",
     "output_type": "stream",
     "text": [
      "<pyspark.sql.session.SparkSession object at 0x7f8fe0930780>\n"
     ]
    }
   ],
   "source": [
    "import findspark\n",
    "findspark.init()\n",
    "\n",
    "import pyspark\n",
    "from pyspark.sql import SparkSession\n",
    "\n",
    "spark = SparkSession.builder.appName(\"Final Project\").getOrCreate()\n",
    "print(spark)\n",
    "\n",
    "import random\n",
    "import concurrent.futures\n",
    "import time\n",
    "from pyspark.sql.functions import col, when\n",
    "from pyspark.sql.functions import min as spark_min, max as spark_max"
   ]
  },
  {
   "cell_type": "code",
   "execution_count": 1,
   "metadata": {},
   "outputs": [
    {
     "name": "stdout",
     "output_type": "stream",
     "text": [
      "Python 2.7.17\n"
     ]
    }
   ],
   "source": [
    "!python --version\n",
    "!pyspark --version"
   ]
  },
  {
   "cell_type": "markdown",
   "metadata": {},
   "source": [
    "## Data loading"
   ]
  },
  {
   "cell_type": "code",
   "execution_count": 2,
   "metadata": {},
   "outputs": [
    {
     "name": "stdout",
     "output_type": "stream",
     "text": [
      "+--------------+----------+------+\n",
      "|        UserId| ProductId|Rating|\n",
      "+--------------+----------+------+\n",
      "|A39HTATAQ9V7YF|0205616461|   5.0|\n",
      "|A3JM6GV9MNOF9X|0558925278|   3.0|\n",
      "|A1Z513UWSAAO0F|0558925278|   5.0|\n",
      "+--------------+----------+------+\n",
      "only showing top 3 rows\n",
      "\n"
     ]
    }
   ],
   "source": [
    "df = spark.read.csv(\"hdfs://localhost:9000/user/input/data.csv\", header=True, inferSchema=True)\n",
    "rdd = df.rdd\n",
    "df = df.drop('Timestamp')\n",
    "df.show(3)"
   ]
  },
  {
   "cell_type": "markdown",
   "metadata": {},
   "source": [
    "## Project needs to read dataset categorize it. "
   ]
  },
  {
   "cell_type": "markdown",
   "metadata": {},
   "source": [
    "### Average Rating per Product"
   ]
  },
  {
   "cell_type": "code",
   "execution_count": 12,
   "metadata": {},
   "outputs": [
    {
     "name": "stdout",
     "output_type": "stream",
     "text": [
      "+----------+-------------+\n",
      "| ProductId|AverageRating|\n",
      "+----------+-------------+\n",
      "|9790773587|          5.0|\n",
      "|9790794207|          5.0|\n",
      "|B00004VBMM|          5.0|\n",
      "+----------+-------------+\n",
      "only showing top 3 rows\n",
      "\n"
     ]
    }
   ],
   "source": [
    "# Return all Product Ratings for each User, you have three columns (UserId, ProductId, Rating)\n",
    "df.groupBy(\"ProductId\").avg(\"Rating\").withColumnRenamed(\"avg(Rating)\", \"AverageRating\").show(3)"
   ]
  },
  {
   "cell_type": "code",
   "execution_count": 7,
   "metadata": {},
   "outputs": [],
   "source": [
    "def get_avg_rating(df):\n",
    "    return df.groupBy(\"ProductId\").avg(\"Rating\").withColumnRenamed(\"avg(Rating)\", \"AverageRating\")"
   ]
  },
  {
   "cell_type": "markdown",
   "metadata": {},
   "source": [
    "### Average Rating per User"
   ]
  },
  {
   "cell_type": "code",
   "execution_count": 13,
   "metadata": {},
   "outputs": [
    {
     "name": "stdout",
     "output_type": "stream",
     "text": [
      "+--------------+-------------+\n",
      "|        UserId|AverageRating|\n",
      "+--------------+-------------+\n",
      "|A2HNQ3JHXDSVMW|          3.0|\n",
      "|A2DOQ89OLXNHNL|          5.0|\n",
      "|A17U6P3YQISHYH|          4.8|\n",
      "+--------------+-------------+\n",
      "only showing top 3 rows\n",
      "\n"
     ]
    }
   ],
   "source": [
    "df.groupBy(\"UserId\").avg(\"Rating\").withColumnRenamed(\"avg(Rating)\", \"AverageRating\").show(3)"
   ]
  },
  {
   "cell_type": "code",
   "execution_count": 8,
   "metadata": {},
   "outputs": [],
   "source": [
    "def get_avg_rating(df):\n",
    "    return df.groupBy(\"UserId\").avg(\"Rating\").withColumnRenamed(\"avg(Rating)\", \"AverageRating\")"
   ]
  },
  {
   "cell_type": "markdown",
   "metadata": {},
   "source": [
    "## It should be possible to find lowest and highest scores in dataset"
   ]
  },
  {
   "cell_type": "code",
   "execution_count": 14,
   "metadata": {},
   "outputs": [
    {
     "name": "stdout",
     "output_type": "stream",
     "text": [
      "Min rating:  1.0\n",
      "Max rating:  5.0\n"
     ]
    }
   ],
   "source": [
    "min_rating = df.select(spark_min(\"Rating\")).collect()[0][0]\n",
    "max_rating = df.select(spark_max(\"Rating\")).collect()[0][0]\n",
    "print(\"Min rating: \", min_rating)\n",
    "print(\"Max rating: \", max_rating)"
   ]
  },
  {
   "cell_type": "code",
   "execution_count": 3,
   "metadata": {},
   "outputs": [],
   "source": [
    "def get_min_rating(df):\n",
    "    return df.select(spark_min(\"Rating\")).collect()[0][0]"
   ]
  },
  {
   "cell_type": "code",
   "execution_count": 4,
   "metadata": {},
   "outputs": [],
   "source": [
    "def get_max_rating(df):\n",
    "    return df.select(spark_max(\"Rating\")).collect()[0][0]"
   ]
  },
  {
   "cell_type": "markdown",
   "metadata": {},
   "source": [
    "## Add new data"
   ]
  },
  {
   "cell_type": "code",
   "execution_count": 31,
   "metadata": {},
   "outputs": [],
   "source": [
    "def add_data(df, new_data, columns, spark=SparkSession.builder.appName(\"Product Rating Analysis\").getOrCreate()):\n",
    "    new_df = spark.createDataFrame(new_data, schema=columns)\n",
    "    return df.union(new_df)"
   ]
  },
  {
   "cell_type": "code",
   "execution_count": 37,
   "metadata": {},
   "outputs": [
    {
     "name": "stdout",
     "output_type": "stream",
     "text": [
      "+--------------+----------+------+\n",
      "|        UserId| ProductId|Rating|\n",
      "+--------------+----------+------+\n",
      "|A2HNQ3JHXDSVMW|B0000C321X|   5.0|\n",
      "+--------------+----------+------+\n",
      "\n"
     ]
    }
   ],
   "source": [
    "input = ['A2HNQ3JHXDSVMW', 'B0000C321X', 5]\n",
    "user_id, product_id, new_rating = input\n",
    "df = add_data(df, [(user_id, product_id, new_rating)], df.columns)\n",
    "df.filter((col(\"UserId\") == user_id) & (col(\"ProductId\") == product_id)).show()"
   ]
  },
  {
   "cell_type": "markdown",
   "metadata": {},
   "source": [
    "## Update existing one"
   ]
  },
  {
   "cell_type": "code",
   "execution_count": 46,
   "metadata": {},
   "outputs": [],
   "source": [
    "def update_data(df, user_id, product_id, new_rating):\n",
    "    condition = (col(\"UserId\") == user_id) & (col(\"ProductId\") == product_id)\n",
    "    if df.filter(condition).count() > 0:\n",
    "        df = df.withColumn(\n",
    "            'Rating',\n",
    "            when(condition, new_rating).otherwise(col(\"Rating\"))\n",
    "        )\n",
    "        print(f\"Updated UserId: {user_id}, ProductId: {product_id} with new Rating: {new_rating}\")\n",
    "        df.filter(condition).show()\n",
    "        return df\n",
    "    else:\n",
    "        print(f\"No entry found for UserId: {user_id}, ProductId: {product_id}\")\n",
    "\n",
    "    return df"
   ]
  },
  {
   "cell_type": "code",
   "execution_count": 50,
   "metadata": {},
   "outputs": [
    {
     "name": "stdout",
     "output_type": "stream",
     "text": [
      "Updated UserId: A2HNQ3JHXDSVMW, ProductId: B0000C321X with new Rating: 4\n",
      "+--------------+----------+------+\n",
      "|        UserId| ProductId|Rating|\n",
      "+--------------+----------+------+\n",
      "|A2HNQ3JHXDSVMW|B0000C321X|   4.0|\n",
      "+--------------+----------+------+\n",
      "\n"
     ]
    }
   ],
   "source": [
    "df = update_data(df, 'A2HNQ3JHXDSVMW' , 'B0000C321X', 4)"
   ]
  },
  {
   "cell_type": "markdown",
   "metadata": {},
   "source": [
    "## Stress Test 1: The client makes the same request very quickly min (10000 times)."
   ]
  },
  {
   "cell_type": "code",
   "execution_count": 53,
   "metadata": {},
   "outputs": [],
   "source": [
    "def task_1():\n",
    "    for _ in range(10000):\n",
    "        get_avg_rating(df)"
   ]
  },
  {
   "cell_type": "code",
   "execution_count": 55,
   "metadata": {},
   "outputs": [
    {
     "name": "stdout",
     "output_type": "stream",
     "text": [
      "Running Stress Test 1: Single client making the same request very quickly\n",
      "Stress Test 1 completed in 44.23 seconds\n"
     ]
    }
   ],
   "source": [
    "print(\"Running Stress Test 1: Single client making the same request very quickly\")\n",
    "start_time = time.time()\n",
    "task_1()\n",
    "print(f\"Stress Test 1 completed in {time.time() - start_time:.2f} seconds\")"
   ]
  },
  {
   "cell_type": "markdown",
   "metadata": {},
   "source": [
    "## Stress Test 2: Two or more clients make the possible requests randomly (10000 times)."
   ]
  },
  {
   "cell_type": "code",
   "execution_count": 6,
   "metadata": {},
   "outputs": [],
   "source": [
    "counter = 0\n",
    "def task_2(no_requests):\n",
    "    global counter\n",
    "    requests = [random.randint(1, 100) for _ in range(no_requests)]\n",
    "    for req in requests:\n",
    "        if req % 2 == 0:\n",
    "            counter += 1\n",
    "            print(f\"Counter: {counter}, Client: {no_requests}\")\n",
    "            get_max_rating(df)\n",
    "        else:\n",
    "            counter += 1\n",
    "            print(f\"Counter: {counter}, Client: {no_requests}\")\n",
    "            get_min_rating(df)"
   ]
  },
  {
   "cell_type": "code",
   "execution_count": 7,
   "metadata": {},
   "outputs": [
    {
     "name": "stdout",
     "output_type": "stream",
     "text": [
      "Running Stress Test 2: Multiple clients making requests randomly\n"
     ]
    }
   ],
   "source": [
    "print(\"Running Stress Test 2: Multiple clients making requests randomly\")\n",
    "start_time = time.time()\n",
    "\n",
    "client1 = random.randint(1, 10000)\n",
    "client2 = random.randint(1, 10000 - client1)\n",
    "client3 = 10000 - client1 - client2\n",
    "\n",
    "with concurrent.futures.ThreadPoolExecutor(max_workers=3) as executor:\n",
    "    futures = [executor.submit(task_2, client1), executor.submit(task_2, client2), executor.submit(task_2, client3)]\n",
    "    try:\n",
    "        concurrent.futures.wait(futures)\n",
    "    except KeyboardInterrupt:\n",
    "        executor.shutdown(wait=False) \n",
    "        print(\"Tasks interrupted and executor shut down.\")\n",
    "\n",
    "print(f\"Stress Test 2 completed in {time.time() - start_time:.2f} seconds\")"
   ]
  },
  {
   "cell_type": "markdown",
   "metadata": {},
   "source": [
    "## Stress Test 3: System has to make some processing base on all data it has and handle at least (1000 in short period of time)"
   ]
  },
  {
   "cell_type": "code",
   "execution_count": 60,
   "metadata": {},
   "outputs": [],
   "source": [
    "def remove_data(df, user_id, product_id):\n",
    "    condition = (col(\"UserId\") == user_id) & (col(\"ProductId\") == product_id)\n",
    "    if df.filter(condition).count() > 0:\n",
    "        df = df.filter(~condition)\n",
    "        # print(f\"Removed UserId: {user_id}, ProductId: {product_id}\")\n",
    "        return df\n",
    "    else:\n",
    "        print(f\"No entry found for UserId: {user_id}, ProductId: {product_id}\")\n",
    "\n",
    "    return df"
   ]
  },
  {
   "cell_type": "code",
   "execution_count": 59,
   "metadata": {},
   "outputs": [],
   "source": [
    "def task_3_add():\n",
    "    for i in range(1000):\n",
    "        add_data(df, [(i, f\"Product_{i}\", random.randint(1, 5))], [\"UserId\", \"ProductId\", \"Rating\"])\n",
    "        \n",
    "def task_3_remove():\n",
    "    for i in range(1000):\n",
    "        remove_data(df, [(i, f\"Product_{i}\", random.randint(1, 5))], [\"UserId\", \"ProductId\", \"Rating\"])"
   ]
  },
  {
   "cell_type": "code",
   "execution_count": 62,
   "metadata": {},
   "outputs": [
    {
     "name": "stdout",
     "output_type": "stream",
     "text": [
      "Running Stress Test 3: System processing a large load of data quickly\n",
      "Stress Test 3 completed in 9.81 seconds\n"
     ]
    }
   ],
   "source": [
    "print(\"Running Stress Test 3: System processing a large load of data quickly\")\n",
    "start_time = time.time()\n",
    "task_3_add()\n",
    "print(f\"Stress Test 3 completed in {time.time() - start_time:.2f} seconds\")"
   ]
  },
  {
   "cell_type": "code",
   "execution_count": 63,
   "metadata": {},
   "outputs": [
    {
     "name": "stdout",
     "output_type": "stream",
     "text": [
      "Running Stress Test 3: System processing a large load of data quickly\n",
      "Stress Test 3 completed in 9.45 seconds\n"
     ]
    }
   ],
   "source": [
    "print(\"Running Stress Test 3: System processing a large load of data quickly\")\n",
    "start_time = time.time()\n",
    "task_3_remove()\n",
    "print(f\"Stress Test 3 completed in {time.time() - start_time:.2f} seconds\")"
   ]
  }
 ],
 "metadata": {
  "kernelspec": {
   "display_name": "Python 3",
   "language": "python",
   "name": "python3"
  },
  "language_info": {
   "codemirror_mode": {
    "name": "ipython",
    "version": 3
   },
   "file_extension": ".py",
   "mimetype": "text/x-python",
   "name": "python",
   "nbconvert_exporter": "python",
   "pygments_lexer": "ipython3",
   "version": "3.6.9"
  }
 },
 "nbformat": 4,
 "nbformat_minor": 2
}
